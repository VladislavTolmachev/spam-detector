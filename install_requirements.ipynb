{
 "cells": [
  {
   "cell_type": "code",
   "execution_count": null,
   "id": "ef04ce39-ca50-4b92-bdfd-87ffca79acd3",
   "metadata": {},
   "outputs": [],
   "source": [
    "#!/usr/bin/env python3\n",
    "\n",
    "import importlib\n",
    "import subprocess\n",
    "import sys\n",
    "\n",
    "\n",
    "def install_package(package):\n",
    "    try:\n",
    "        subprocess.check_call(\n",
    "            [sys.executable, \"-m\", \"pip\", \"install\", package]\n",
    "        )\n",
    "        print(f\"✓ Successfully installed: {package}\")\n",
    "        return True\n",
    "    except subprocess.CalledProcessError:\n",
    "        print(f\"✗ Installation error: {package}\")\n",
    "        return False\n",
    "\n",
    "\n",
    "def check_and_install():\n",
    "    required_packages = [\n",
    "        'pandas>=1.3.0',\n",
    "        'numpy>=1.21.0',\n",
    "        'scikit-learn>=1.0.0',\n",
    "        'matplotlib>=3.5.0',\n",
    "        'seaborn>=0.11.0',\n",
    "        'joblib>=1.1.0',\n",
    "        'scipy>=1.7.0'\n",
    "    ]\n",
    "    \n",
    "    print(\"Checking and installing dependencies...\")\n",
    "    print(\"=\" * 50)\n",
    "    \n",
    "    all_success = True\n",
    "    for package in required_packages:\n",
    "        package_name = package.split('>=')[0]\n",
    "        try:\n",
    "            importlib.import_module(\n",
    "                package_name if package_name != 'scikit-learn' else 'sklearn'\n",
    "            )\n",
    "            print(f\"✓ Already installed: {package_name}\")\n",
    "        except ImportError:\n",
    "            print(f\"→ Installing: {package}\")\n",
    "            if not install_package(package):\n",
    "                all_success = False\n",
    "    \n",
    "    print(\"=\" * 50)\n",
    "    if all_success:\n",
    "        print(\"✓ All dependencies successfully installed!\")\n",
    "    else:\n",
    "        print(\"⚠ Some dependencies not installed. Check internet connection.\")\n",
    "\n",
    "\n",
    "if __name__ == \"__main__\":\n",
    "    check_and_install()"
   ]
  }
 ],
 "metadata": {
  "kernelspec": {
   "display_name": "Python 3 (ipykernel)",
   "language": "python",
   "name": "python3"
  },
  "language_info": {
   "codemirror_mode": {
    "name": "ipython",
    "version": 3
   },
   "file_extension": ".py",
   "mimetype": "text/x-python",
   "name": "python",
   "nbconvert_exporter": "python",
   "pygments_lexer": "ipython3",
   "version": "3.13.7"
  }
 },
 "nbformat": 4,
 "nbformat_minor": 5
}
